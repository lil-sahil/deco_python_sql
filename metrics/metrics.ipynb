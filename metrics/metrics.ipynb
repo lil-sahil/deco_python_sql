{
 "cells": [
  {
   "cell_type": "code",
   "execution_count": 1,
   "id": "f193c265",
   "metadata": {},
   "outputs": [
    {
     "name": "stderr",
     "output_type": "stream",
     "text": [
      "C:\\Users\\sahil.nagpal\\AppData\\Local\\Continuum\\anaconda3\\lib\\site-packages\\numpy\\_distributor_init.py:32: UserWarning: loaded more than 1 DLL from .libs:\n",
      "C:\\Users\\sahil.nagpal\\AppData\\Local\\Continuum\\anaconda3\\lib\\site-packages\\numpy\\.libs\\libopenblas.JPIJNSWNNAN3CE6LLI5FWSPHUT2VXMTH.gfortran-win_amd64.dll\n",
      "C:\\Users\\sahil.nagpal\\AppData\\Local\\Continuum\\anaconda3\\lib\\site-packages\\numpy\\.libs\\libopenblas.WCDJNK7YVMPZQ2ME2ZZHJJRJ3JIKNDB7.gfortran-win_amd64.dll\n",
      "  stacklevel=1)\n"
     ]
    }
   ],
   "source": [
    "import main_DecoWest as m"
   ]
  },
  {
   "cell_type": "code",
   "execution_count": 2,
   "id": "3b752995",
   "metadata": {},
   "outputs": [],
   "source": [
    "import pandas as pd"
   ]
  },
  {
   "cell_type": "code",
   "execution_count": 3,
   "id": "f6d1faf9",
   "metadata": {},
   "outputs": [],
   "source": [
    "pd.set_option('display.max_columns', None)"
   ]
  },
  {
   "cell_type": "code",
   "execution_count": 4,
   "id": "8fd8f139",
   "metadata": {},
   "outputs": [],
   "source": [
    "conn = m.Sql('172.19.11.38','DW-FcDbExporter')"
   ]
  },
  {
   "cell_type": "code",
   "execution_count": 5,
   "id": "ad2add15",
   "metadata": {},
   "outputs": [
    {
     "data": {
      "text/plain": [
       "'172.19.11.38'"
      ]
     },
     "execution_count": 5,
     "metadata": {},
     "output_type": "execute_result"
    }
   ],
   "source": [
    "conn.server_name"
   ]
  },
  {
   "cell_type": "code",
   "execution_count": 6,
   "id": "bf968217",
   "metadata": {},
   "outputs": [],
   "source": [
    "df = conn.table_to_df('machine_performances')"
   ]
  },
  {
   "cell_type": "code",
   "execution_count": 7,
   "id": "aeafc4cf",
   "metadata": {},
   "outputs": [
    {
     "data": {
      "text/plain": [
       "array([None, 'Flex 2 - Final', 'Flex 1 - Final', 'Shear Panel',\n",
       "       'Flex 3 - Final', 'Mazak 2', 'Flex 4 - Final', 'DSSF2', 'DSSF3',\n",
       "       'FM1', 'FM2', 'RU Bushing', 'LX AWD-OP10', 'LX AWD-OP20',\n",
       "       'LX AWD-OP30', 'LX AWD-OP40', 'LX AWD-OP50', 'Flex 3 - OP10',\n",
       "       'Flex 3 - OP20', 'Flex 3 - OP30', 'Flex 3 - OP40', 'FM3',\n",
       "       'Mazak 3', 'Mazak 1', 'Mazak 6', 'Mazak 7', 'RM1', 'RM2', 'RM3',\n",
       "       'LX AWD - Final', '6066', '6063', '6062/86', '6084/85', '6077/78',\n",
       "       '6058/62/63/82', '6086 Bushing', 'DSSF1', 'RSD SideA', 'RSD SideB',\n",
       "       'RU XMBR - Final', '6084/85 Bushing', 'ZN3 Bushing', 'ZN3 Pierce',\n",
       "       'ZN3 Wash', 'WLM03 ST130', 'WLM02 ST130', 'WLM01 ST130', 'ST90',\n",
       "       'ST100A10', 'ST100A20', 'ST100B10', 'ST100B20', 'ST50', 'ST80B',\n",
       "       'ST80A', 'ST82', 'Flex 1 - OP10', 'Flex 1 - OP20', 'Flex 1 - OP30',\n",
       "       'Flex 1 - OP40', 'ST10', 'ST20', 'ST30', 'ST23', 'ST40', 'ST43',\n",
       "       'ST45', 'ST54', 'ST60', 'ST63', 'ST65', 'ST70', 'ST73', 'ST74',\n",
       "       'ST75', 'ST95 Load', 'ST95 Unload', 'ST34', 'ST105', 'ST110',\n",
       "       'ST113', 'ST120', 'ST140A', 'ST140B', 'Flex 2 - OP20',\n",
       "       'Flex 2 - OP30', 'Flex 2 - OP10', 'Flex 4 - OP10', 'Flex 4 - OP20',\n",
       "       'Flex 4 - OP30', 'LX AWD-OP90', 'WL1 FPSC', 'WL2 FPSC2',\n",
       "       'WL3 FPSC3'], dtype=object)"
      ]
     },
     "execution_count": 7,
     "metadata": {},
     "output_type": "execute_result"
    }
   ],
   "source": [
    "df['machine_name'].unique()"
   ]
  },
  {
   "cell_type": "code",
   "execution_count": 8,
   "id": "8c91c760",
   "metadata": {},
   "outputs": [],
   "source": [
    "# df.loc[(df['machine_name']==\"WLM03 ST130\") & (df['production_day']==\"2021-12-21\"),:]"
   ]
  },
  {
   "cell_type": "code",
   "execution_count": 9,
   "id": "f1687faa",
   "metadata": {},
   "outputs": [],
   "source": [
    "# df.loc[(df['machine_name']==\"WLM02 ST130\") & (df['utilization'] > 0.2),'utilization'].hist()"
   ]
  },
  {
   "cell_type": "code",
   "execution_count": 10,
   "id": "d674b7c9",
   "metadata": {},
   "outputs": [],
   "source": [
    "# df.loc[(df['machine_name']==\"WLM02 ST130\") & (df['utilization'] > 0.2) & (df['time_scheduled_production']> 0),'utilization'].hist()"
   ]
  },
  {
   "cell_type": "code",
   "execution_count": 11,
   "id": "7b0612fa",
   "metadata": {},
   "outputs": [],
   "source": [
    "# df.loc[(df['machine_name']==\"WLM02 ST130\") & (df['oee'] <= 1),'utilization'].hist()"
   ]
  },
  {
   "cell_type": "code",
   "execution_count": 15,
   "id": "68df9c5e",
   "metadata": {},
   "outputs": [],
   "source": [
    "df.loc[(df['utilization']> 0.2)& (df['oee'] <= 1),:].to_csv(r\"../dw_metrics.csv\")"
   ]
  },
  {
   "cell_type": "code",
   "execution_count": null,
   "id": "304260c5",
   "metadata": {},
   "outputs": [],
   "source": []
  },
  {
   "cell_type": "code",
   "execution_count": 12,
   "id": "12507bc0",
   "metadata": {},
   "outputs": [],
   "source": [
    "# df.loc[(df['machine_name']==\"WLM02 ST130\") & ( (df['utilization'] > 0.2) & (df['utilization'] < 0.3)),:]"
   ]
  },
  {
   "cell_type": "code",
   "execution_count": 13,
   "id": "0715f7b4",
   "metadata": {},
   "outputs": [],
   "source": [
    "# df.loc[df['machine_name'].str.contains('WL', na = False),:]"
   ]
  },
  {
   "cell_type": "code",
   "execution_count": 14,
   "id": "dc2cc6c7",
   "metadata": {},
   "outputs": [],
   "source": [
    "# df.columns"
   ]
  },
  {
   "cell_type": "code",
   "execution_count": null,
   "id": "3cd70d2b",
   "metadata": {},
   "outputs": [],
   "source": []
  }
 ],
 "metadata": {
  "kernelspec": {
   "display_name": "Python 3 (ipykernel)",
   "language": "python",
   "name": "python3"
  },
  "language_info": {
   "codemirror_mode": {
    "name": "ipython",
    "version": 3
   },
   "file_extension": ".py",
   "mimetype": "text/x-python",
   "name": "python",
   "nbconvert_exporter": "python",
   "pygments_lexer": "ipython3",
   "version": "3.7.11"
  }
 },
 "nbformat": 4,
 "nbformat_minor": 5
}
